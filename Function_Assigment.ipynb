{
 "cells": [
  {
   "cell_type": "code",
   "execution_count": 1,
   "id": "772ea519-74d7-4dae-a024-584ab63611db",
   "metadata": {},
   "outputs": [],
   "source": [
    "# Pratical Questions\n",
    "\n",
    "# Q1: Write a Python function that takes a list of numbers as input and returns the sum of all even numbers in \n",
    "# the list."
   ]
  },
  {
   "cell_type": "code",
   "execution_count": 2,
   "id": "48925d92-b5d5-4d9b-83f6-3086ad6aebf6",
   "metadata": {},
   "outputs": [
    {
     "name": "stdout",
     "output_type": "stream",
     "text": [
      "The sum of even numbers is: 12\n"
     ]
    }
   ],
   "source": [
    "#Ans:- \n",
    "\n",
    "def sum_of_even_numbers(numbers):\n",
    "    \n",
    "    sum_even = 0\n",
    "    for num in numbers:\n",
    "        if num % 2 == 0:\n",
    "            sum_even += num\n",
    "    return sum_even\n",
    "\n",
    "numbers = [1, 2, 3, 4, 5, 6]\n",
    "result = sum_of_even_numbers(numbers)\n",
    "print(f'The sum of even numbers is: {result}')"
   ]
  },
  {
   "cell_type": "code",
   "execution_count": 3,
   "id": "6057b4fd-b9cd-4816-9404-655f7a738fd6",
   "metadata": {},
   "outputs": [],
   "source": [
    "# Q2: Create a Python function that accepts a string and returns the reverse of that string."
   ]
  },
  {
   "cell_type": "code",
   "execution_count": 4,
   "id": "9565dc9d-f1ef-4bc0-bec2-cca2213e585d",
   "metadata": {},
   "outputs": [
    {
     "name": "stdout",
     "output_type": "stream",
     "text": [
      "Reversed string: !dlroW ,olleH\n"
     ]
    }
   ],
   "source": [
    "# Ans:-\n",
    "def reverse_string(input_string):\n",
    "    reversed_string = input_string[::-1]\n",
    "    return reversed_string\n",
    "original_string = \"Hello, World!\"\n",
    "result = reverse_string(original_string)\n",
    "print(f'Reversed string: {result}')\n"
   ]
  },
  {
   "cell_type": "code",
   "execution_count": 5,
   "id": "4fbe0f34-34bd-4a14-b2c7-19f50b4717db",
   "metadata": {},
   "outputs": [],
   "source": [
    "# Q3: Implement a Python function that takes a list of integers and returns a new list containing the squares of each number"
   ]
  },
  {
   "cell_type": "code",
   "execution_count": 6,
   "id": "2b2538f1-cd24-4559-943a-d52f3b9e6e92",
   "metadata": {},
   "outputs": [
    {
     "name": "stdout",
     "output_type": "stream",
     "text": [
      "Squared numbers: [1, 4, 9, 16, 25]\n"
     ]
    }
   ],
   "source": [
    "# Ans:-\n",
    "def square_numbers(numbers):\n",
    "    squared_numbers = [num ** 2 for num in numbers]\n",
    "    return squared_numbers\n",
    "numbers = [1, 2, 3, 4, 5]\n",
    "result = square_numbers(numbers)\n",
    "print(f'Squared numbers: {result}')\n"
   ]
  },
  {
   "cell_type": "code",
   "execution_count": 7,
   "id": "069a26da-f231-468c-a9e4-08074a1a0d38",
   "metadata": {},
   "outputs": [],
   "source": [
    "# Q4:  Write a Python function that checks if a given number is prime or not from 1 to 200."
   ]
  },
  {
   "cell_type": "code",
   "execution_count": 8,
   "id": "1ec41cb2-bbb4-492b-8508-8e36e833d269",
   "metadata": {},
   "outputs": [
    {
     "name": "stdout",
     "output_type": "stream",
     "text": [
      "2 is a prime number\n",
      "3 is a prime number\n",
      "5 is a prime number\n",
      "7 is a prime number\n",
      "11 is a prime number\n",
      "13 is a prime number\n",
      "17 is a prime number\n",
      "19 is a prime number\n",
      "23 is a prime number\n",
      "29 is a prime number\n",
      "31 is a prime number\n",
      "37 is a prime number\n",
      "41 is a prime number\n",
      "43 is a prime number\n",
      "47 is a prime number\n",
      "53 is a prime number\n",
      "59 is a prime number\n",
      "61 is a prime number\n",
      "67 is a prime number\n",
      "71 is a prime number\n",
      "73 is a prime number\n",
      "79 is a prime number\n",
      "83 is a prime number\n",
      "89 is a prime number\n",
      "97 is a prime number\n",
      "101 is a prime number\n",
      "103 is a prime number\n",
      "107 is a prime number\n",
      "109 is a prime number\n",
      "113 is a prime number\n",
      "127 is a prime number\n",
      "131 is a prime number\n",
      "137 is a prime number\n",
      "139 is a prime number\n",
      "149 is a prime number\n",
      "151 is a prime number\n",
      "157 is a prime number\n",
      "163 is a prime number\n",
      "167 is a prime number\n",
      "173 is a prime number\n",
      "179 is a prime number\n",
      "181 is a prime number\n",
      "191 is a prime number\n",
      "193 is a prime number\n",
      "197 is a prime number\n",
      "199 is a prime number\n"
     ]
    }
   ],
   "source": [
    "# Ans:-\n",
    "def is_prime(number):\n",
    "    if number < 2:\n",
    "        return False\n",
    "    for i in range(2, int(number ** 0.5) + 1):\n",
    "        if number % i == 0:\n",
    "            return False\n",
    "    return True\n",
    "\n",
    "for num in range(1, 201):\n",
    "    if is_prime(num):\n",
    "        print(f'{num} is a prime number')"
   ]
  },
  {
   "cell_type": "code",
   "execution_count": 9,
   "id": "54527be7-204d-499f-a323-bf06de6bea25",
   "metadata": {},
   "outputs": [],
   "source": [
    "# Q5:  Create an iterator class in Python that generates the Fibonacci sequence up to a specified number of terms."
   ]
  },
  {
   "cell_type": "code",
   "execution_count": 10,
   "id": "44a43f74-7f2a-4321-aa8a-1b3a60c53192",
   "metadata": {},
   "outputs": [
    {
     "name": "stdout",
     "output_type": "stream",
     "text": [
      "0\n",
      "1\n",
      "1\n",
      "2\n",
      "3\n",
      "5\n",
      "8\n",
      "13\n",
      "21\n",
      "34\n"
     ]
    }
   ],
   "source": [
    "# Ans:-\n",
    "class FibonacciIterator:\n",
    "    def __init__(self, n_terms):\n",
    "        self.n_terms = n_terms\n",
    "        self.current = 0\n",
    "        self.next = 1\n",
    "        self.count = 0\n",
    "\n",
    "    def __iter__(self):\n",
    "        return self\n",
    "\n",
    "    def __next__(self):\n",
    "        if self.count >= self.n_terms:\n",
    "            raise StopIteration\n",
    "        \n",
    "        fib_number = self.current\n",
    "        self.current, self.next = self.next, self.current + self.next\n",
    "        self.count += 1\n",
    "        \n",
    "        return fib_number\n",
    "\n",
    "n = 10\n",
    "fib_iterator = FibonacciIterator(n)\n",
    "\n",
    "for fib in fib_iterator:\n",
    "    print(fib)\n",
    "\n",
    "\n"
   ]
  },
  {
   "cell_type": "code",
   "execution_count": 11,
   "id": "9d757ac5-de73-4add-9b63-aad193cd76fb",
   "metadata": {},
   "outputs": [],
   "source": [
    "# Q6: Write a generator function in Python that yields the powers of 2 up to a given exponent."
   ]
  },
  {
   "cell_type": "code",
   "execution_count": 12,
   "id": "25657794-94a8-46f2-bc24-a207563107b6",
   "metadata": {},
   "outputs": [
    {
     "name": "stdout",
     "output_type": "stream",
     "text": [
      "1\n",
      "2\n",
      "4\n",
      "8\n",
      "16\n",
      "32\n"
     ]
    }
   ],
   "source": [
    "# Ans:-\n",
    "def powers_of_two(max_exponent):\n",
    "    for exponent in range(max_exponent + 1):\n",
    "        yield 2 ** exponent\n",
    "for power in powers_of_two(5):\n",
    "    print(power)\n"
   ]
  },
  {
   "cell_type": "code",
   "execution_count": 13,
   "id": "bc7c7338-dfa1-4fb7-bbba-538d4f10e901",
   "metadata": {},
   "outputs": [],
   "source": [
    "# Q7:  Implement a generator function that reads a file line by line and yields each line as a string."
   ]
  },
  {
   "cell_type": "code",
   "execution_count": null,
   "id": "ce62c01b-09c3-46bd-9208-08491eba9566",
   "metadata": {},
   "outputs": [],
   "source": [
    "# Ans:-\n",
    "def read_file_line_by_line(file_path):\n",
    "    with open(file_path, 'r') as file:\n",
    "        for line in file:\n",
    "            yield line.strip()\n",
    "\n",
    "file_path = 'example.txt'\n",
    "for line in read_file_line_by_line(file_path):\n",
    "    print(line)"
   ]
  },
  {
   "cell_type": "code",
   "execution_count": 17,
   "id": "87b823be-717b-4099-8394-17ec60125285",
   "metadata": {},
   "outputs": [],
   "source": [
    "# Q8: Use a lambda function in Python to sort a list of tuples based on the second element of each tuple."
   ]
  },
  {
   "cell_type": "code",
   "execution_count": 18,
   "id": "be7dcc6c-8d73-4e53-8f24-528fc7a1d775",
   "metadata": {},
   "outputs": [
    {
     "name": "stdout",
     "output_type": "stream",
     "text": [
      "[(2, 1), (3, 2), (1, 3), (4, 4)]\n"
     ]
    }
   ],
   "source": [
    "# Ans:-\n",
    "data = [(1, 3), (2, 1), (3, 2), (4, 4)]\n",
    "\n",
    "sorted_data = sorted(data, key=lambda x: x[1])\n",
    "\n",
    "print(sorted_data)\n"
   ]
  },
  {
   "cell_type": "code",
   "execution_count": 19,
   "id": "25a34a5b-89d0-45d4-b0f8-db3b0e2c5d9d",
   "metadata": {},
   "outputs": [],
   "source": [
    "# Q9:  Write a Python program that uses `map()` to convert a list of temperatures from Celsius to Fahrenheit."
   ]
  },
  {
   "cell_type": "code",
   "execution_count": 20,
   "id": "b8ec1cbe-8554-49ad-8db7-ff8f13a5a1ea",
   "metadata": {},
   "outputs": [
    {
     "name": "stdout",
     "output_type": "stream",
     "text": [
      "[32.0, 50.0, 68.0, 86.0, 104.0]\n"
     ]
    }
   ],
   "source": [
    "# Ans:-\n",
    "def celsius_to_fahrenheit(celsius):\n",
    "    return (celsius * 9/5) + 32\n",
    "celsius_temps = [0, 10, 20, 30, 40]\n",
    "\n",
    "fahrenheit_temps = map(celsius_to_fahrenheit, celsius_temps)\n",
    "\n",
    "fahrenheit_temps_list = list(fahrenheit_temps)\n",
    "\n",
    "print(fahrenheit_temps_list)\n"
   ]
  },
  {
   "cell_type": "code",
   "execution_count": 21,
   "id": "1432b61a-ae87-441a-969c-357693d4a00b",
   "metadata": {},
   "outputs": [],
   "source": [
    "# Q10: Create a Python program that uses `filter()` to remove all the vowels from a given string."
   ]
  },
  {
   "cell_type": "code",
   "execution_count": 22,
   "id": "b83e9002-2e85-4437-a802-8ebeee29d51f",
   "metadata": {},
   "outputs": [
    {
     "name": "stdout",
     "output_type": "stream",
     "text": [
      "Hll, Wrld!\n"
     ]
    }
   ],
   "source": [
    "# Ans:-\n",
    "def is_not_vowel(char):\n",
    "    vowels = 'aeiouAEIOU'\n",
    "    return char not in vowels\n",
    "\n",
    "def remove_vowels(input_string):\n",
    "    filtered_chars = filter(is_not_vowel, input_string)\n",
    "    return ''.join(filtered_chars)\n",
    "\n",
    "input_string = \"Hello, World!\"\n",
    "result = remove_vowels(input_string)\n",
    "print(result)\n"
   ]
  },
  {
   "cell_type": "code",
   "execution_count": 23,
   "id": "2343ca3c-c969-4cb9-847e-31d6138252ca",
   "metadata": {},
   "outputs": [],
   "source": [
    "# Q11: Imagine an accounting routine used in a book shop. It works on a list with sublists, which look like this:\n",
    "#      Order Number   Book Title and Author                Quantity    Price Per Item\n",
    "#      34587          Learnig Python, Mark Lutz               4            40.95\n",
    "#      98762          Programming Python, Mark Lutz           5            56.80\n",
    "#      77226          Head First Pyhton, Paul Barry           3            32.95\n",
    "#      88112          Einfuhrung in Python3, Bernd Klein      3            24.99\n",
    "\n",
    "#Write a Python program, which returns a list with 2-tuples. Each tuple consists of the order number and the \n",
    "#product of the price per item and the quantity. The product should be increased by 10,- € if the value of the \n",
    "#order is smaller than 100,00 €.\n",
    "\n",
    "#Write a Python program using lambda and map\n"
   ]
  },
  {
   "cell_type": "code",
   "execution_count": 24,
   "id": "b673a836-7f7c-48a0-a528-9d02f33e2256",
   "metadata": {},
   "outputs": [
    {
     "name": "stdout",
     "output_type": "stream",
     "text": [
      "[(34587, 163.8), (98762, 284.0), (77226, 108.85000000000001), (88112, 84.97)]\n"
     ]
    }
   ],
   "source": [
    "# Ans:-\n",
    "orders = [\n",
    "    [34587, 'Learning Python, Mark Lutz', 4, 40.95],\n",
    "    [98762, 'Programming Python, Mark Lutz', 5, 56.80],\n",
    "    [77226, 'Head First Python, Paul Barry', 3, 32.95],\n",
    "    [88112, 'Einführung in Python3, Bernd Klein', 3, 24.99]\n",
    "]\n",
    "\n",
    "calculate_total = lambda order: (\n",
    "    order[0], \n",
    "    order[2] * order[3] + 10 if order[2] * order[3] < 100 else order[2] * order[3]\n",
    ")\n",
    "\n",
    "results = list(map(calculate_total, orders))\n",
    "print(results)\n"
   ]
  },
  {
   "cell_type": "code",
   "execution_count": 25,
   "id": "c7b56ada-6443-4e88-b80b-cccd1bf8cae6",
   "metadata": {},
   "outputs": [],
   "source": [
    "# THEROY QUESTIONS"
   ]
  },
  {
   "cell_type": "code",
   "execution_count": 26,
   "id": "b99b516d-ee84-45be-a21e-4e7c38178829",
   "metadata": {},
   "outputs": [],
   "source": [
    "# Q1: What is the difference between a function and a method in Python?"
   ]
  },
  {
   "cell_type": "code",
   "execution_count": 28,
   "id": "2dfbc5e2-0791-4820-b18e-fea965e4cca9",
   "metadata": {},
   "outputs": [
    {
     "name": "stdout",
     "output_type": "stream",
     "text": [
      "Hello, Alice!\n"
     ]
    }
   ],
   "source": [
    "# Ans:- \n",
    "# Fuction: A function is a block of code that is designed to perform a specific task. Functions are defined using the def keyword \n",
    "# and can be called independently of any class or object. For eg:\n",
    "# Define a function\n",
    "def greet(name):\n",
    "    return f\"Hello, {name}!\"\n",
    "\n",
    "# Call the function\n",
    "print(greet(\"Alice\"))  # Output: Hello, Alice!\n",
    "\n"
   ]
  },
  {
   "cell_type": "code",
   "execution_count": 29,
   "id": "b1d68e54-7c1b-4714-ac2c-2f374c905f5f",
   "metadata": {},
   "outputs": [
    {
     "name": "stdout",
     "output_type": "stream",
     "text": [
      "Hello, Bob!\n"
     ]
    }
   ],
   "source": [
    "# Method: A method is similar to a function but is associated with an object. \n",
    "# Methods are defined within a class and operate on instances of that class (or the class itself, if it is a class method).\n",
    "# for eg:\n",
    "class Greeter:\n",
    "    def __init__(self, name):\n",
    "        self.name = name\n",
    "    \n",
    "    # Define a method\n",
    "    def greet(self):\n",
    "        return f\"Hello, {self.name}!\"\n",
    "\n",
    "# Create an instance of the class\n",
    "greeter = Greeter(\"Bob\")\n",
    "\n",
    "# Call the method on the instance\n",
    "print(greeter.greet())  # Output: Hello, Bob!\n"
   ]
  },
  {
   "cell_type": "code",
   "execution_count": 30,
   "id": "6cc63810-b231-4fde-baae-e78931c5bce1",
   "metadata": {},
   "outputs": [],
   "source": [
    "# Q2: Explain the concept of function arguments and parameters in Python."
   ]
  },
  {
   "cell_type": "code",
   "execution_count": 31,
   "id": "10bcf62a-d815-40c4-956c-8ff6b7e2f872",
   "metadata": {},
   "outputs": [
    {
     "name": "stdout",
     "output_type": "stream",
     "text": [
      "Hello, Alice! You are 30 years old.\n"
     ]
    }
   ],
   "source": [
    "# Ans:-\n",
    "# In Python, function arguments and parameters are essential concepts for defining and calling functions.\n",
    "# They help in passing data into functions and customizing their behavior.\n",
    "# Parameters:\n",
    "# Parameters are the variables listed inside the parentheses in the function definition. \n",
    "# They act as placeholders for the values that will be passed into the function.\n",
    "# Arguments:\n",
    "# Arguments are the actual values that you pass to the function when calling it.\n",
    "# They correspond to the parameters defined in the function.\n",
    "# # Define a function with parameters\n",
    "def greet(name, age):\n",
    "    return f\"Hello, {name}! You are {age} years old.\"\n",
    "\n",
    "# Call the function with arguments\n",
    "message = greet(\"Alice\", 30)\n",
    "\n",
    "print(message)  # Output: Hello, Alice! You are 30 years old.\n"
   ]
  },
  {
   "cell_type": "code",
   "execution_count": null,
   "id": "b8a3a77c-686b-4e64-ba68-478a26c21757",
   "metadata": {},
   "outputs": [],
   "source": [
    "# Q3: What are the different ways to define and call a function in Python?"
   ]
  },
  {
   "cell_type": "code",
   "execution_count": 1,
   "id": "a3f36c7e-70e5-43dc-859f-fa21b436c83a",
   "metadata": {},
   "outputs": [
    {
     "name": "stdout",
     "output_type": "stream",
     "text": [
      "8\n"
     ]
    }
   ],
   "source": [
    "# Ans:- In Python, functions are defined using the def keyword and can be called by simply using their name followed by parentheses. \n",
    "# There are different types of functions and ways to define them, including regular functions, anonymous (lambda) functions, and using \n",
    "# *args and **kwargs for flexible parameters. Here are some key methods:\n",
    "\n",
    "# 1. Regular Function Definition:-\n",
    "# This is the most common way to define a function. You can specify a function with parameters, perform operations, and return values.\n",
    "\n",
    "def my_function(param1, param2):\n",
    "    return param1 + param2\n",
    "\n",
    "# Call the function\n",
    "result = my_function(5, 3)\n",
    "print(result)"
   ]
  },
  {
   "cell_type": "code",
   "execution_count": 2,
   "id": "f6404a12-19fe-4762-8baf-ab9883d72069",
   "metadata": {},
   "outputs": [
    {
     "name": "stdout",
     "output_type": "stream",
     "text": [
      "Hello, Alice!\n",
      "Hello, Guest!\n"
     ]
    }
   ],
   "source": [
    "# 2. Default Arguments:-\n",
    "# You can define a function with default values for parameters. If the caller does not provide a value for that parameter, the default \n",
    "# value will be used.\n",
    "def greet(name=\"Guest\"):\n",
    "    return f\"Hello, {name}!\"\n",
    "\n",
    "print(greet(\"Alice\"))\n",
    "\n",
    "print(greet())"
   ]
  },
  {
   "cell_type": "code",
   "execution_count": 3,
   "id": "6cb6cd33-376f-4cf6-88b3-82420a66ae0a",
   "metadata": {},
   "outputs": [
    {
     "name": "stdout",
     "output_type": "stream",
     "text": [
      "10\n"
     ]
    }
   ],
   "source": [
    "# 3. Arbitrary Number of Arguments using *args:-\n",
    "# When you don't know the number of arguments that will be passed to the function, you can use *args. This will allow you to pass a \n",
    "# variable number of positional arguments to the function.\n",
    "def add_numbers(*args):\n",
    "    return sum(args)\n",
    "\n",
    "print(add_numbers(1, 2, 3, 4))"
   ]
  },
  {
   "cell_type": "code",
   "execution_count": 4,
   "id": "afbc8c71-cce6-4dfd-836e-7951d67b63b7",
   "metadata": {},
   "outputs": [
    {
     "name": "stdout",
     "output_type": "stream",
     "text": [
      "name: Alice\n",
      "age: 30\n",
      "city: New York\n"
     ]
    }
   ],
   "source": [
    "# 4. Keyword Arguments using **kwargs:-\n",
    "# **kwargs allows you to pass a variable number of keyword arguments to a function. These arguments are captured as a dictionary.\n",
    "def print_info(**kwargs):\n",
    "    for key, value in kwargs.items():\n",
    "        print(f\"{key}: {value}\")\n",
    "\n",
    "print_info(name=\"Alice\", age=30, city=\"New York\")"
   ]
  },
  {
   "cell_type": "code",
   "execution_count": 5,
   "id": "6492a178-e128-4693-95d7-8c1a9430bf48",
   "metadata": {},
   "outputs": [
    {
     "name": "stdout",
     "output_type": "stream",
     "text": [
      "16\n"
     ]
    }
   ],
   "source": [
    "# 5. Anonymous Functions (Lambda Functions):-\n",
    "# These are simple, single-line functions that do not require the def keyword. They are often used for small tasks or as arguments \n",
    "# to higher-order functions (like sorting or mapping).\n",
    "# Define a lambda function\n",
    "square = lambda x: x ** 2\n",
    "\n",
    "print(square(4))"
   ]
  },
  {
   "cell_type": "code",
   "execution_count": 6,
   "id": "586a619d-6794-4327-a602-54d58a180e79",
   "metadata": {},
   "outputs": [
    {
     "name": "stdout",
     "output_type": "stream",
     "text": [
      "[1, 4, 9, 16]\n"
     ]
    }
   ],
   "source": [
    "# Lambda functions are often used within functions like map(), filter(), and sorted().\n",
    "numbers = [1, 2, 3, 4]\n",
    "squared_numbers = list(map(lambda x: x ** 2, numbers))\n",
    "print(squared_numbers) "
   ]
  },
  {
   "cell_type": "code",
   "execution_count": 7,
   "id": "cf589df6-8d6e-4024-9304-91581565acd7",
   "metadata": {},
   "outputs": [
    {
     "name": "stdout",
     "output_type": "stream",
     "text": [
      "120\n"
     ]
    }
   ],
   "source": [
    "# 6. Recursive Functions:-\n",
    "# Functions that call themselves are known as recursive functions. They are useful for problems like calculating factorials or \n",
    "# traversing trees.\n",
    "\n",
    "def factorial(n):\n",
    "    if n == 1:\n",
    "        return 1\n",
    "    else:\n",
    "        return n * factorial(n - 1)\n",
    "\n",
    "print(factorial(5))"
   ]
  },
  {
   "cell_type": "code",
   "execution_count": 8,
   "id": "313a501b-3e36-46fc-bc96-b40d194dddef",
   "metadata": {},
   "outputs": [
    {
     "name": "stdout",
     "output_type": "stream",
     "text": [
      "10\n"
     ]
    }
   ],
   "source": [
    "# 7. First-Class Functions:-\n",
    "# In Python, functions are first-class objects. This means you can pass them as arguments to other functions, return them from other \n",
    "# functions, and assign them to variables.\n",
    "def multiply(x):\n",
    "    return x * 2\n",
    "\n",
    "def process(func, value):\n",
    "    return func(value)\n",
    "\n",
    "result = process(multiply, 5)\n",
    "print(result)\n"
   ]
  },
  {
   "cell_type": "code",
   "execution_count": 9,
   "id": "6d2cb9aa-f93c-4ab0-b3ff-5748f3a1decc",
   "metadata": {},
   "outputs": [
    {
     "name": "stdout",
     "output_type": "stream",
     "text": [
      "Hello\n"
     ]
    }
   ],
   "source": [
    "# 8. Nested Functions:-\n",
    "# You can define functions within other functions. Nested functions can also capture and carry some of the outer function's state, \n",
    "# which is useful for decorators or closures.\n",
    "def outer_function(msg):\n",
    "    def inner_function():\n",
    "        print(msg)\n",
    "    return inner_function\n",
    "\n",
    "my_func = outer_function(\"Hello\")\n",
    "my_func()"
   ]
  },
  {
   "cell_type": "code",
   "execution_count": null,
   "id": "8dbd34fa-66a6-46e1-83c8-81d64bfeb639",
   "metadata": {},
   "outputs": [],
   "source": [
    "# Q4: What is the purpose of the `return` statement in a Python function?"
   ]
  },
  {
   "cell_type": "code",
   "execution_count": 10,
   "id": "13c48510-5fa8-4045-b0a2-7dfd3df99e30",
   "metadata": {},
   "outputs": [
    {
     "name": "stdout",
     "output_type": "stream",
     "text": [
      "8\n"
     ]
    }
   ],
   "source": [
    "# Ans:- 1. Return a Value from the Function:-\n",
    "# The primary purpose of the return statement is to exit the function and send a value back to the caller. This allows the function to \n",
    "# produce a result that can be used elsewhere in the program.\n",
    "def add(a, b):\n",
    "    return a + b\n",
    "\n",
    "result = add(5, 3)  \n",
    "print(result)"
   ]
  },
  {
   "cell_type": "code",
   "execution_count": 11,
   "id": "b84a1125-0118-49a5-ad4f-2f79c6ac29ce",
   "metadata": {},
   "outputs": [
    {
     "name": "stdout",
     "output_type": "stream",
     "text": [
      "This is returned\n"
     ]
    }
   ],
   "source": [
    "# 2. Exit the Function:-\n",
    "# The return statement immediately terminates the function execution and exits from the function. Any code after the return statement \n",
    "# will not be executed.\n",
    "def example():\n",
    "    return \"This is returned\"\n",
    "    print(\"This will never be printed\")\n",
    "\n",
    "print(example())"
   ]
  },
  {
   "cell_type": "code",
   "execution_count": 12,
   "id": "4e37697b-dcd6-404f-9fbc-237a1d0205b5",
   "metadata": {},
   "outputs": [
    {
     "name": "stdout",
     "output_type": "stream",
     "text": [
      "Alice\n",
      "30\n"
     ]
    }
   ],
   "source": [
    "# 3. Return Multiple Values:-\n",
    "# Python allows a function to return multiple values by separating them with commas. These values are returned as a tuple.\n",
    "def get_person_info():\n",
    "    name = \"Alice\"\n",
    "    age = 30\n",
    "    return name, age\n",
    "\n",
    "person_name, person_age = get_person_info()\n",
    "print(person_name)\n",
    "print(person_age)"
   ]
  },
  {
   "cell_type": "code",
   "execution_count": 13,
   "id": "646d5815-ae83-428f-9cd1-cf2d06ff3582",
   "metadata": {},
   "outputs": [
    {
     "name": "stdout",
     "output_type": "stream",
     "text": [
      "This function doesn't return anything\n",
      "None\n"
     ]
    }
   ],
   "source": [
    "# 4. Return Nothing / None:-\n",
    "# If a function has no explicit return statement or if the return statement is written without a value, the function will return None \n",
    "# by default.\n",
    "def no_return_function():\n",
    "    print(\"This function doesn't return anything\")\n",
    "\n",
    "result = no_return_function()\n",
    "print(result) "
   ]
  },
  {
   "cell_type": "code",
   "execution_count": 14,
   "id": "cdd4a658-df04-4e90-972d-6780aeb4ba45",
   "metadata": {},
   "outputs": [
    {
     "name": "stdout",
     "output_type": "stream",
     "text": [
      "Even\n",
      "Odd\n"
     ]
    }
   ],
   "source": [
    "# 5. Returning Condition-Based Values:-\n",
    "# You can use multiple return statements in conditional blocks within a function to return different values based on conditions.\n",
    "def check_even_odd(number):\n",
    "    if number % 2 == 0:\n",
    "        return \"Even\"\n",
    "    else:\n",
    "        return \"Odd\"\n",
    "\n",
    "print(check_even_odd(4))\n",
    "print(check_even_odd(7))  "
   ]
  },
  {
   "cell_type": "code",
   "execution_count": null,
   "id": "ab392bbf-2154-4932-8aff-0d5a6a904316",
   "metadata": {},
   "outputs": [],
   "source": [
    "# Q5: What are iterators in Python and how do they differ from iterables?"
   ]
  },
  {
   "cell_type": "code",
   "execution_count": 15,
   "id": "0ca5d352-c65e-4ae9-bcac-5471164b521f",
   "metadata": {},
   "outputs": [
    {
     "name": "stdout",
     "output_type": "stream",
     "text": [
      "1\n",
      "2\n",
      "3\n"
     ]
    }
   ],
   "source": [
    "# Ans:- In Python, iterators and iterables are two related but distinct concepts used in looping and traversing collections of data. \n",
    "# Let’s explore each of them and how they differ.\n",
    "\n",
    "# 1. Iterable:-\n",
    "#An iterable is any Python object that can return an iterator. This means that the object can be looped over (or iterated through). \n",
    "# Examples of iterables include collections such as lists, tuples, dictionaries, sets, strings, and any object that implements \n",
    "# the __iter__() method.\n",
    "\n",
    "# Examples of Iterables:\n",
    "# Lists: [1, 2, 3]\n",
    "# Tuples: (1, 2, 3)\n",
    "# Dictionaries: {'a': 1, 'b': 2}\n",
    "# Sets: {1, 2, 3}\n",
    "# Strings: \"Hello\"\n",
    "# An iterable allows you to use Python's for loop to iterate over the elements:\n",
    "my_list = [1, 2, 3]\n",
    "\n",
    "for item in my_list:  # The list is iterable\n",
    "    print(item)"
   ]
  },
  {
   "cell_type": "code",
   "execution_count": 17,
   "id": "a5d8a95a-6b37-4264-96fc-a2514f363238",
   "metadata": {},
   "outputs": [
    {
     "name": "stdout",
     "output_type": "stream",
     "text": [
      "1\n",
      "2\n",
      "3\n",
      "4\n"
     ]
    }
   ],
   "source": [
    "# 2. Iterator:-\n",
    "# An iterator is an object that represents a stream of data and can be iterated upon. It is an object with a __next__() method, which \n",
    "# returns successive elements from the collection. When the iterator has no more elements to return, it raises a StopIteration \n",
    "# exception.\n",
    "\n",
    "# An iterator can be created from an iterable by using the iter() function.\n",
    "\n",
    "# Characteristics of an Iterator:\n",
    "# Implements both the __iter__() and __next__() methods.\n",
    "# Returns elements one at a time when the next() function is called.\n",
    "# Exhausts itself after traversing through all elements.\n",
    "\n",
    "# Convert an iterable to an iterator\n",
    "my_list = [1, 2, 3, 4]\n",
    "iterator = iter(my_list)  \n",
    "\n",
    "print(next(iterator))  \n",
    "print(next(iterator))  \n",
    "print(next(iterator))  \n",
    "print(next(iterator))  "
   ]
  },
  {
   "cell_type": "code",
   "execution_count": 18,
   "id": "ac3dedbc-2406-4cb7-b127-6044181eddef",
   "metadata": {},
   "outputs": [
    {
     "name": "stdout",
     "output_type": "stream",
     "text": [
      "1\n",
      "2\n",
      "3\n"
     ]
    }
   ],
   "source": [
    "# 3. Key Differences Between Iterables and Iterators:-\n",
    "# Feature\tIterable\tIterator\n",
    "# Definition\tAny object that can return an iterator.\tAn object that produces elements one by one.\n",
    "# Methods\tMust implement __iter__().\tMust implement __iter__() and __next__().\n",
    "# Usage in Loops\tCan be looped over directly (e.g., in for).\tNeeds next() to get elements individually.\n",
    "# Exhaustion\tNot exhausted after iteration.\tCan be exhausted; after traversal, raises StopIteration.\n",
    "# Example\tLists, Tuples, Sets, Strings, Dictionaries.\tObject from iter() like file object or generator.\n",
    "\n",
    "# 4. Creating a Custom Iterator:-\n",
    "# You can create your own custom iterator class by implementing the __iter__() and __next__() methods:\n",
    "class MyIterator:\n",
    "    def __init__(self, max_value):\n",
    "        self.current = 0\n",
    "        self.max_value = max_value\n",
    "\n",
    "    def __iter__(self):\n",
    "        return self\n",
    "\n",
    "    def __next__(self):\n",
    "        if self.current < self.max_value:\n",
    "            self.current += 1\n",
    "            return self.current\n",
    "        else:\n",
    "            raise StopIteration\n",
    "\n",
    "# Usage:\n",
    "my_iter = MyIterator(3)\n",
    "\n",
    "for item in my_iter:\n",
    "    print(item)\n"
   ]
  },
  {
   "cell_type": "code",
   "execution_count": 19,
   "id": "680c2038-4e05-45bb-ac1f-e1fb7a56bbaf",
   "metadata": {},
   "outputs": [
    {
     "name": "stdout",
     "output_type": "stream",
     "text": [
      "1\n",
      "2\n",
      "3\n"
     ]
    }
   ],
   "source": [
    "# 5. Relationship Between Iterables and Iterators:-\n",
    "# Every iterator is also an iterable because it has the __iter__() method and returns itself as an iterator.\n",
    "# Not all iterables are iterators. For example, lists, tuples, and dictionaries are iterables but not iterators. However, you can \n",
    "# obtain an iterator from them using iter().\n",
    "\n",
    "# 6. Use Case Example:-\n",
    "# Iterable: Something you can loop over, like a list.\n",
    "# Iterator: What is used internally by the iterable to fetch each element, one at a time, during iteration.\n",
    "# Example:\n",
    "my_list = [1, 2, 3]  \n",
    "my_iterator = iter(my_list)  \n",
    "\n",
    "print(next(my_iterator))  \n",
    "print(next(my_iterator))  \n",
    "print(next(my_iterator))  "
   ]
  },
  {
   "cell_type": "code",
   "execution_count": null,
   "id": "b9ec8fa6-84e2-4d99-9591-ea0002fd7c9d",
   "metadata": {},
   "outputs": [],
   "source": [
    "# Summary:-\n",
    "# Iterable: Any object that can be iterated over (supports __iter__() method).\n",
    "# Iterator: An object that represents a stream of data (supports __iter__() and __next__() methods) and is used to iterate through an \n",
    "# iterable."
   ]
  },
  {
   "cell_type": "code",
   "execution_count": null,
   "id": "69ac6543-e8cd-4486-8861-ec68d62575b7",
   "metadata": {},
   "outputs": [],
   "source": [
    "# Q6: Explain the concept of generators in Python and how they are defined."
   ]
  },
  {
   "cell_type": "code",
   "execution_count": 20,
   "id": "8fd7dedd-1d08-4547-ac3d-908155814861",
   "metadata": {},
   "outputs": [
    {
     "name": "stdout",
     "output_type": "stream",
     "text": [
      "1\n",
      "2\n",
      "3\n",
      "4\n",
      "5\n"
     ]
    }
   ],
   "source": [
    "# Ans:- In Python, generators are a special type of iterator that allows you to iterate over values lazily, meaning values are produced \n",
    "# one at a time as they are needed, rather than all at once. This makes generators memory-efficient, especially when dealing with large\n",
    "# datasets or infinite sequences.\n",
    "\n",
    "# Key Concepts of Generators:\n",
    "# 1. Laziness: Unlike lists or other collections, generators do not store all values in memory. Instead, they generate values on \n",
    "# the fly.\n",
    "# 2. State Retention: Each time a generator yields a value, it retains its state, allowing it to resume where it left off when it is \n",
    "# called again.\n",
    "# 3. Single Iteration: Generators can only be iterated once. After they are exhausted, they cannot be reset without re-creating them.\n",
    "# How Generators are Defined\n",
    "# Generators are defined in two main ways:\n",
    "\n",
    "# 1. Using yield in Functions\n",
    "# 2. Using Generator Expressions (similar to list comprehensions)\n",
    "# 1. Defining Generators using yield:-\n",
    "# A function becomes a generator when it contains one or more yield statements instead of return. The yield statement pauses the \n",
    "# function and sends a value back to the caller. When the generator is resumed, it continues execution right after the yield \n",
    "# statement, retaining the state of all local variables.\n",
    "\n",
    "# Simple generator function\n",
    "def count_up_to(n):\n",
    "    count = 1\n",
    "    while count <= n:\n",
    "        yield count\n",
    "        count += 1\n",
    "\n",
    "# Using the generator\n",
    "gen = count_up_to(5)\n",
    "\n",
    "# Fetch values one by one\n",
    "print(next(gen))  \n",
    "print(next(gen))  \n",
    "print(next(gen))  \n",
    "\n",
    "# Using a for loop to exhaust the generator\n",
    "for num in gen:\n",
    "    print(num)"
   ]
  },
  {
   "cell_type": "code",
   "execution_count": 22,
   "id": "63f239d0-48d9-460a-95e2-002552b50726",
   "metadata": {},
   "outputs": [
    {
     "name": "stdout",
     "output_type": "stream",
     "text": [
      "[0, 2, 4, 6, 8]\n",
      "0\n",
      "2\n",
      "4\n",
      "6\n",
      "8\n"
     ]
    }
   ],
   "source": [
    "# Key Characteristics of yield:\n",
    "# Pauses Execution: When yield is encountered, the function's state is saved, and it returns the yielded value to the caller.\n",
    "# Resumes Execution: When the generator is called again (using next()), it resumes execution right after the yield statement where it \n",
    "# was paused.\n",
    "# State Retention: Variables in the generator retain their values between yield calls.\n",
    "\n",
    "# 2. Generator Expressions\n",
    "# Generator expressions are a more concise way to create generators, similar to list comprehensions, but with parentheses instead of \n",
    "# square brackets. Like functions with yield, they generate values on-the-fly.\n",
    "\n",
    "# List comprehension (returns a list)\n",
    "list_comp = [x * 2 for x in range(5)]\n",
    "print(list_comp)  \n",
    "\n",
    "# Generator expression (returns a generator object)\n",
    "gen_exp = (x * 2 for x in range(5))\n",
    "\n",
    "# Fetch values one by one\n",
    "print(next(gen_exp))  \n",
    "print(next(gen_exp))  \n",
    "\n",
    "# Using a for loop to exhaust the generator\n",
    "for val in gen_exp:\n",
    "    print(val)"
   ]
  },
  {
   "cell_type": "code",
   "execution_count": 23,
   "id": "e23d2053-d23a-41bb-9343-0e2b592902d0",
   "metadata": {},
   "outputs": [
    {
     "name": "stdout",
     "output_type": "stream",
     "text": [
      "0\n",
      "1\n",
      "2\n",
      "Done\n"
     ]
    }
   ],
   "source": [
    "# Differences Between yield and return\n",
    "# yield: Returns a value and pauses the generator, allowing it to resume execution later. You can yield multiple times from the same \n",
    "# generator.\n",
    "# return: Ends the function execution and returns a value (if any). In a generator, return is typically used to stop the iteration by \n",
    "# raising a StopIteration exception.\n",
    "# Example of return in a generator:\n",
    "def custom_generator(n):\n",
    "    for i in range(n):\n",
    "        yield i\n",
    "    return \"Done\"\n",
    "\n",
    "gen = custom_generator(3)\n",
    "\n",
    "try:\n",
    "    while True:\n",
    "        print(next(gen))  \n",
    "except StopIteration as e:\n",
    "    print(e.value)  "
   ]
  },
  {
   "cell_type": "code",
   "execution_count": 24,
   "id": "fba3ad24-6014-4771-a03a-f06cf247f3f8",
   "metadata": {},
   "outputs": [
    {
     "name": "stdout",
     "output_type": "stream",
     "text": [
      "0\n",
      "1\n",
      "1\n",
      "2\n",
      "3\n",
      "5\n",
      "8\n",
      "13\n",
      "21\n",
      "34\n"
     ]
    }
   ],
   "source": [
    "# Advantages of Generators:\n",
    "# 1. Memory Efficiency: Since generators do not store values in memory, they are suitable for processing large datasets or streams of \n",
    "# data (e.g., reading large files line by line).\n",
    "\n",
    "# 2. Lazy Evaluation: Generators yield values only when needed, making them ideal for scenarios where generating all values at once \n",
    "# would be wasteful or impossible (e.g., infinite sequences).\n",
    "\n",
    "# 3. Statefulness: Generators maintain their local state across multiple yield calls, which is useful for sequential or stateful \n",
    "# computations.\n",
    "\n",
    "# Common Use Cases of Generators:\n",
    "# 1. Processing Large Files: Reading large files line by line instead of loading the entire file into memory.\n",
    "# 2. Infinite Sequences: Generating an unbounded sequence of numbers (like Fibonacci, prime numbers, etc.).\n",
    "# 3. Data Streaming: Processing continuous data streams where the entire dataset is not available at once.\n",
    "# Example: Infinite Fibonacci Generator\n",
    "def fibonacci():\n",
    "    a, b = 0, 1\n",
    "    while True:\n",
    "        yield a\n",
    "        a, b = b, a + b\n",
    "\n",
    "# Using the Fibonacci generator\n",
    "fib_gen = fibonacci()\n",
    "\n",
    "# Fetch the first 10 Fibonacci numbers\n",
    "for _ in range(10):\n",
    "    print(next(fib_gen)) "
   ]
  },
  {
   "cell_type": "code",
   "execution_count": null,
   "id": "30b252e3-ac60-4a8e-a5ed-247c7e4ec62a",
   "metadata": {},
   "outputs": [],
   "source": [
    "# Summary:\n",
    "# Generators are a type of iterator that lazily produce values using yield.\n",
    "# They are memory efficient, especially for large datasets or infinite sequences.\n",
    "# Defining Generators:\n",
    "# Using the yield statement in a function.\n",
    "# Using generator expressions (similar to list comprehensions).\n",
    "# Generators allow for lazy evaluation, where values are generated as needed, rather than all at once, making them particularly useful \n",
    "# for large datasets or streams of data."
   ]
  },
  {
   "cell_type": "code",
   "execution_count": null,
   "id": "216456e2-8044-4677-b458-d736b7002743",
   "metadata": {},
   "outputs": [],
   "source": [
    "# Q7: What are the advantages of using generators over regular functions?"
   ]
  },
  {
   "cell_type": "code",
   "execution_count": 28,
   "id": "5c1af2d0-ab4d-4aa4-b2fd-d1b83243968c",
   "metadata": {},
   "outputs": [
    {
     "name": "stdout",
     "output_type": "stream",
     "text": [
      "0\n",
      "1\n",
      "2\n"
     ]
    }
   ],
   "source": [
    "# Ans: Generators offer several key advantages over regular functions, especially when dealing with large datasets or computationally \n",
    "# expensive operations. Here's a detailed look at the benefits:\n",
    "\n",
    "# 1. Memory Efficiency (Lazy Evaluation):\n",
    "# Generators produce values on-the-fly, meaning they generate one value at a time and only when requested (using yield). They don't \n",
    "# store all values in memory like lists or other data structures, making them highly memory-efficient.\n",
    "# Regular Functions return all results at once, which means they need to hold all values in memory before returning them. For large \n",
    "# datasets, this can lead to high memory consumption.\n",
    "\n",
    "# 2. Infinite Sequences:\n",
    "# Generators can handle infinite sequences because they don’t need to produce all the values at once. For example, generating an \n",
    "# infinite series of numbers, like the Fibonacci sequence or prime numbers, is possible with generators.\n",
    "# Regular Functions would need to return a finite set of values, and returning an infinite sequence would either consume all memory or \n",
    "# cause the program to hang.\n",
    "# Example:\n",
    "# Generating an infinite sequence of natural numbers:\n",
    "\n",
    "def infinite_sequence():\n",
    "    num = 0\n",
    "    while True:\n",
    "        yield num\n",
    "        num += 1\n",
    "\n",
    "gen = infinite_sequence()\n",
    "print(next(gen))  \n",
    "print(next(gen))  \n",
    "print(next(gen))  "
   ]
  },
  {
   "cell_type": "code",
   "execution_count": 30,
   "id": "93071a74-c1f5-4710-a8c0-72569e40fd94",
   "metadata": {},
   "outputs": [
    {
     "name": "stdout",
     "output_type": "stream",
     "text": [
      "Processing value: 0\n",
      "Processing value: 2\n",
      "Processing value: 4\n",
      "Processing value: 6\n",
      "Processing value: 8\n"
     ]
    }
   ],
   "source": [
    "# 3. Improved Performance:\n",
    "# Generators allow you to start processing results immediately without waiting for the entire computation to finish. Since they yield \n",
    "# values one at a time, other operations can be performed while more values are generated.\n",
    "# Regular Functions wait until all computations are complete before returning, which can lead to performance bottlenecks if processing \n",
    "# or computation is slow.\n",
    "# 4. Pipeline Processing:\n",
    "# Generators can be composed together in a pipeline fashion. This allows you to process a large stream of data step-by-step, applying \n",
    "# transformations at each stage, without loading the entire dataset into memory.\n",
    "\n",
    "# Regular Functions require you to process the entire dataset at each step, leading to higher memory usage.\n",
    "\n",
    "# Example:\n",
    "# Processing data in stages with generators:\n",
    "def data_producer():\n",
    "    for i in range(10):\n",
    "        yield i\n",
    "\n",
    "def data_filter(data):\n",
    "    for value in data:\n",
    "        if value % 2 == 0:\n",
    "            yield value\n",
    "\n",
    "def data_consumer(data):\n",
    "    for value in data:\n",
    "        print(f\"Processing value: {value}\")\n",
    "\n",
    "# Generator pipeline: Produce -> Filter -> Consume\n",
    "data_consumer(data_filter(data_producer()))"
   ]
  },
  {
   "cell_type": "code",
   "execution_count": 31,
   "id": "f8de532b-b486-4aa9-b034-25ac4b365ca2",
   "metadata": {},
   "outputs": [
    {
     "name": "stdout",
     "output_type": "stream",
     "text": [
      "0\n",
      "1\n"
     ]
    }
   ],
   "source": [
    "# 5. Maintain State Between Iterations:\n",
    "# Generators maintain local variables' state between each yield, meaning you can resume execution right where you left off without \n",
    "# losing the intermediate state.\n",
    "# Regular Functions cannot retain state between function calls. You would need to explicitly manage state using external variables or \n",
    "# data structures, leading to more complex code.\n",
    "# Example:\n",
    "# A generator that remembers its state:\n",
    "def count_up():\n",
    "    count = 0\n",
    "    while count < 5:\n",
    "        yield count\n",
    "        count += 1\n",
    "\n",
    "gen = count_up()\n",
    "print(next(gen))  \n",
    "print(next(gen))"
   ]
  },
  {
   "cell_type": "code",
   "execution_count": 32,
   "id": "eb1c703c-08c6-4b60-87ad-df96b50490d1",
   "metadata": {},
   "outputs": [],
   "source": [
    "# 6. Simplified Code for Complex Iteration:\n",
    "# Generators allow you to implement complex iteration patterns (e.g., producing Fibonacci numbers, traversing a tree, or reading data \n",
    "# chunks) with concise and readable code. They provide an elegant solution to many problems that would otherwise require manually \n",
    "# implementing iterator classes or managing state explicitly.\n",
    "# Regular Functions would require more code to manage the same behavior, making the solution more cumbersome and harder to maintain.\n",
    "# 7. Improved Responsiveness:\n",
    "# Generators can improve the responsiveness of an application, as they avoid blocking behavior. In applications that require processing\n",
    "# large amounts of data, users may start receiving output incrementally as the generator yields values.\n",
    "# Regular Functions that return a large dataset block until all results are produced, making the application feel unresponsive.\n",
    "\n",
    "# Summary of Advantages:\n",
    "# 1. Memory Efficiency: Generators use lazy evaluation, consuming only as much memory as needed for the current value.\n",
    "# 2. Handling Infinite Sequences: Generators can produce infinite data streams without running out of memory.\n",
    "# 3. Improved Performance: Generators allow you to begin processing results before the entire computation is complete.\n",
    "# 4. Pipeline Processing: They can be composed in stages, allowing you to process data step by step, optimizing both memory and CPU \n",
    "# usage.\n",
    "# 5. State Retention: Generators retain their state between iterations, simplifying complex iteration logic.\n",
    "# 6. Simplified Code: Generators provide a cleaner and more readable way to handle complex iteration patterns.\n",
    "# 7. Improved Responsiveness: Incremental generation and yielding of values can make applications more responsive and non-blocking.\n",
    "# Generators are highly beneficial when working with large datasets, streams of data, or cases where efficient memory use and \n",
    "# processing speed are critical."
   ]
  },
  {
   "cell_type": "code",
   "execution_count": null,
   "id": "819a3c67-fd3e-441b-ad92-d3ce56b2abd3",
   "metadata": {},
   "outputs": [],
   "source": [
    "# Q8: What is a lambda function in Python and when is it typically used?"
   ]
  },
  {
   "cell_type": "code",
   "execution_count": 33,
   "id": "86f3c3ff-835c-4f44-9deb-b527d19ae5dd",
   "metadata": {},
   "outputs": [
    {
     "name": "stdout",
     "output_type": "stream",
     "text": [
      "8\n"
     ]
    }
   ],
   "source": [
    "# Ans:- A lambda function in Python is a small, anonymous function defined using the lambda keyword. It allows you to create functions \n",
    "# on the fly without formally defining them using the def keyword. Lambda functions are often used for short, throwaway functions that \n",
    "# are used in a limited scope.\n",
    "\n",
    "# Syntax of Lambda Functions\n",
    "# The syntax for a lambda function is:\n",
    "lambda arguments: expression\n",
    "\n",
    "# lambda: The keyword to declare a lambda function.\n",
    "# arguments: A list of parameters for the function (can be empty).\n",
    "# expression: An expression that the lambda function evaluates and returns.\n",
    "# Example of Lambda Function\n",
    "# Here's a simple example of a lambda function that adds two numbers:\n",
    "# Regular function\n",
    "def add(x, y):\n",
    "    return x + y\n",
    "\n",
    "# Equivalent lambda function\n",
    "add_lambda = lambda x, y: x + y\n",
    "\n",
    "print(add_lambda(5, 3))"
   ]
  },
  {
   "cell_type": "code",
   "execution_count": 34,
   "id": "4dd49a44-de04-439c-a65a-435dac0b6bd5",
   "metadata": {},
   "outputs": [
    {
     "name": "stdout",
     "output_type": "stream",
     "text": [
      "[1, 4, 9, 16]\n"
     ]
    }
   ],
   "source": [
    "# When Lambda Functions Are Typically Used\n",
    "# 1. Short Functions Used Temporarily: Lambda functions are often used for short-lived operations where defining a full function would \n",
    "# be overkill. They are frequently used in situations where a function is required temporarily and does not need a name.\n",
    "\n",
    "# 2. Higher-Order Functions: Lambda functions are commonly used with higher-order functions like map(), filter(), and sorted(), where a\n",
    "# simple operation is needed to transform or filter elements.\n",
    "\n",
    "# map(): Applies a function to all items in an iterable.\n",
    "numbers = [1, 2, 3, 4]\n",
    "squared = list(map(lambda x: x ** 2, numbers))\n",
    "print(squared)"
   ]
  },
  {
   "cell_type": "code",
   "execution_count": 35,
   "id": "5ef63514-688c-47c5-a20a-915b2e566069",
   "metadata": {},
   "outputs": [
    {
     "name": "stdout",
     "output_type": "stream",
     "text": [
      "[2, 4]\n"
     ]
    }
   ],
   "source": [
    "# filter(): Filters elements based on a function that returns True or False.\n",
    "\n",
    "numbers = [1, 2, 3, 4, 5]\n",
    "even_numbers = list(filter(lambda x: x % 2 == 0, numbers))\n",
    "print(even_numbers)"
   ]
  },
  {
   "cell_type": "code",
   "execution_count": 36,
   "id": "761e9925-a34a-4b31-8acc-6307356e54a6",
   "metadata": {},
   "outputs": [
    {
     "name": "stdout",
     "output_type": "stream",
     "text": [
      "[('banana', 1), ('cherry', 2), ('apple', 3)]\n"
     ]
    }
   ],
   "source": [
    "# sorted(): Sorts an iterable with a custom key function.\n",
    "\n",
    "data = [('apple', 3), ('banana', 1), ('cherry', 2)]\n",
    "sorted_data = sorted(data, key=lambda x: x[1])\n",
    "print(sorted_data)"
   ]
  },
  {
   "cell_type": "code",
   "execution_count": 37,
   "id": "423c2125-2dd3-462b-bbb9-4d78f623f1bb",
   "metadata": {},
   "outputs": [
    {
     "name": "stdout",
     "output_type": "stream",
     "text": [
      "[('banana', 1), ('cherry', 2), ('apple', 3)]\n"
     ]
    }
   ],
   "source": [
    "# 3. In-line Function Definitions: Lambda functions are useful for defining simple functions in a single line where a function is needed \n",
    "# immediately.\n",
    "# Using lambda in a `sorted` call for custom sorting\n",
    "data = [(\"apple\", 3), (\"banana\", 1), (\"cherry\", 2)]\n",
    "sorted_data = sorted(data, key=lambda x: x[1])\n",
    "print(sorted_data)"
   ]
  },
  {
   "cell_type": "code",
   "execution_count": 38,
   "id": "1f0aa94b-1e01-460f-887d-ee4533c3333b",
   "metadata": {},
   "outputs": [
    {
     "name": "stdout",
     "output_type": "stream",
     "text": [
      "100\n"
     ]
    }
   ],
   "source": [
    "# 4. Callback Functions: Lambda functions are often used as arguments to functions that require a callback, where defining a separate \n",
    "# named function might be excessive.\n",
    "def apply_function(f, value):\n",
    "    return f(value)\n",
    "\n",
    "result = apply_function(lambda x: x * x, 10)\n",
    "print(result)"
   ]
  },
  {
   "cell_type": "code",
   "execution_count": null,
   "id": "d9971be0-c27c-438b-a309-1a42f5205bc2",
   "metadata": {},
   "outputs": [],
   "source": [
    "# 5. Event Handling: In GUI frameworks and other event-driven programming scenarios, lambda functions are sometimes used to handle \n",
    "# events or actions succinctly.\n",
    "\n",
    "# Limitations of Lambda Functions\n",
    "# Single Expression: Lambda functions can only contain a single expression. They cannot have statements or multiple expressions.\n",
    "# Readability: Overuse of lambda functions can lead to code that is hard to read and maintain. For more complex operations, defining a \n",
    "# regular function is often preferable.\n",
    "# Summary\n",
    "# Lambda Function: A small anonymous function defined using the lambda keyword.\n",
    "# Syntax: lambda arguments: expression\n",
    "# Use Cases: Short, temporary functions; higher-order functions like map(), filter(), and sorted(); inline function definitions; \n",
    "# callback functions; event handling.\n",
    "# Lambda functions are a powerful feature of Python for concise function definitions, particularly in cases where a full function \n",
    "# definition would be unwieldy or unnecessary."
   ]
  },
  {
   "cell_type": "code",
   "execution_count": null,
   "id": "f06220de-e475-48e7-a71b-c2e202583b44",
   "metadata": {},
   "outputs": [],
   "source": [
    "# Q9: Explain the purpose and usage of the `map()` function in Python."
   ]
  },
  {
   "cell_type": "code",
   "execution_count": 41,
   "id": "8aa5140b-d9c8-4592-8080-c356fd235f18",
   "metadata": {},
   "outputs": [
    {
     "name": "stdout",
     "output_type": "stream",
     "text": [
      "[1, 4, 9, 16, 25]\n"
     ]
    }
   ],
   "source": [
    "# Ans:- The map() function in Python is a built-in function that allows you to apply a function to every item in an iterable (such as \n",
    "# a list, tuple, or string) and returns an iterator that produces the results. It's a concise and functional way to transform or \n",
    "# process data in a collection.\n",
    "\n",
    "# Purpose of map()\n",
    "# 1. Transformation: The primary purpose of map() is to apply a transformation function to each element of an iterable. This is useful\n",
    "# for converting or modifying data without using explicit loops.\n",
    "# 2. Functional Programming: map() is a functional programming tool that allows for more declarative and often more readable code by \n",
    "# avoiding explicit loops and managing transformations in a single line.\n",
    "# Syntax of map()\n",
    "# map(function, iterable, ...)\n",
    "# Function: A function that will be applied to each item in the iterable.\n",
    "# iterable: An iterable (e.g., list, tuple) whose elements are to be processed by the function.\n",
    "# ...: (Optional) Additional iterables can be passed if the function takes multiple arguments.\n",
    "# Example Usage\n",
    "# 1. Basic Usage\n",
    "# Applying a simple function to each element of a list:\n",
    "numbers = [1, 2, 3, 4, 5]\n",
    "\n",
    "# Function to square a number\n",
    "def square(x):\n",
    "    return x * x\n",
    "\n",
    "# Use map to apply the square function to each number\n",
    "squared_numbers = map(square, numbers)\n",
    "\n",
    "# Convert the map object to a list to see the results\n",
    "print(list(squared_numbers))"
   ]
  },
  {
   "cell_type": "code",
   "execution_count": 42,
   "id": "d0f9e1d9-7b04-4d26-889f-2bf468b70618",
   "metadata": {},
   "outputs": [
    {
     "name": "stdout",
     "output_type": "stream",
     "text": [
      "[2, 4, 6, 8, 10]\n"
     ]
    }
   ],
   "source": [
    "# 2. Using Lambda Functions:-\n",
    "# You can use lambda functions with map() for more concise function definitions:\n",
    "\n",
    "numbers = [1, 2, 3, 4, 5]\n",
    "\n",
    "# Use map with a lambda function to double each number\n",
    "doubled_numbers = map(lambda x: x * 2, numbers)\n",
    "\n",
    "print(list(doubled_numbers))"
   ]
  },
  {
   "cell_type": "code",
   "execution_count": 43,
   "id": "169052be-afa7-4f2d-acb6-26ee04ffa6d3",
   "metadata": {},
   "outputs": [
    {
     "name": "stdout",
     "output_type": "stream",
     "text": [
      "['Alice: 85', 'Bob: 90', 'Charlie: 95']\n"
     ]
    }
   ],
   "source": [
    "# 3. Multiple Iterables:\n",
    "# map() can accept multiple iterables if the function takes multiple arguments. The function is applied in parallel to the elements of \n",
    "# the iterables, which should be of the same length:\n",
    "\n",
    "names = [\"Alice\", \"Bob\", \"Charlie\"]\n",
    "scores = [85, 90, 95]\n",
    "\n",
    "# Function to combine name and score\n",
    "def combine(name, score):\n",
    "    return f\"{name}: {score}\"\n",
    "\n",
    "# Use map to combine names and scores\n",
    "combined = map(combine, names, scores)\n",
    "\n",
    "print(list(combined))"
   ]
  },
  {
   "cell_type": "code",
   "execution_count": null,
   "id": "bf7d2f43-5c89-404e-bde3-0c12b1539629",
   "metadata": {},
   "outputs": [],
   "source": [
    "# When to Use map()\n",
    "# Data Transformation: Use map() when you need to apply a consistent transformation to each element of a collection.\n",
    "# Functional Programming: Use map() in functional programming paradigms or when you want to avoid explicit loops for better readability.\n",
    "# Parallel Processing: When processing multiple iterables in parallel with a function that takes multiple arguments.\n",
    "\n",
    "# Advantages of map()\n",
    "# Conciseness: map() allows you to apply a transformation in a single line of code.\n",
    "# Readability: It can make code more readable and expressive by avoiding explicit loops.\n",
    "# Functional Approach: Supports functional programming practices by treating functions as first-class objects.\n",
    "\n",
    "# Limitations of map()\n",
    "# Output Type: map() returns an iterator in Python 3. To obtain a list or other collection type, you need to convert the iterator using\n",
    "# list() or another collection constructor.\n",
    "# Function Application: The function applied by map() must be able to handle the data type of the iterable. If the function is not \n",
    "# designed for the iterable's data type, it may result in errors or unintended behavior.\n",
    "\n",
    "# Summary\n",
    "\n",
    "# map() Function: Applies a function to each item in an iterable and returns an iterator of the results.\n",
    "# Syntax: map(function, iterable, ...)\n",
    "# Usage: Useful for data transformation and functional programming. Supports multiple iterables for parallel processing.\n",
    "# The map() function is a versatile tool for applying transformations in a clean, functional style and can simplify code for various \n",
    "# data processing tasks."
   ]
  },
  {
   "cell_type": "code",
   "execution_count": null,
   "id": "36bb4e15-dfa2-4f99-8ba6-545603f4930b",
   "metadata": {},
   "outputs": [],
   "source": [
    "# Q10: What is the difference between `map()`, `reduce()`, and `filter()` functions in Python?"
   ]
  },
  {
   "cell_type": "code",
   "execution_count": 44,
   "id": "c3cd386e-3ec7-4f17-b371-286314b6f731",
   "metadata": {},
   "outputs": [
    {
     "name": "stdout",
     "output_type": "stream",
     "text": [
      "[1, 4, 9, 16, 25]\n"
     ]
    }
   ],
   "source": [
    "# Ans:- The map(), reduce(), and filter() functions in Python are all used for processing iterables, but they serve different purposes \n",
    "# and operate in distinct ways. Here's a breakdown of each function, their differences, and typical use cases:\n",
    "\n",
    "# map()\n",
    "# Purpose\n",
    "# Transformation: map() applies a given function to each item of an iterable and returns an iterator with the results.\n",
    "# Syntax\n",
    "# map(function, iterable, ...)\n",
    "# function: A function that will be applied to each item in the iterable.\n",
    "# iterable: An iterable whose elements will be processed by the function.\n",
    "# ...: Additional iterables if the function requires multiple arguments.\n",
    "# Example\n",
    "numbers = [1, 2, 3, 4, 5]\n",
    "\n",
    "# Function to square a number\n",
    "def square(x):\n",
    "    return x * x\n",
    "\n",
    "squared_numbers = map(square, numbers)\n",
    "print(list(squared_numbers))"
   ]
  },
  {
   "cell_type": "code",
   "execution_count": 45,
   "id": "328de169-f3f1-4dfc-8271-b08d7695e1da",
   "metadata": {},
   "outputs": [
    {
     "name": "stdout",
     "output_type": "stream",
     "text": [
      "15\n"
     ]
    }
   ],
   "source": [
    "# Use Case\n",
    "# Use map() when you need to apply a transformation to each element of an iterable, such as squaring numbers, converting data types, or\n",
    "# applying any consistent operation.\n",
    "\n",
    "# reduce()\n",
    "# Purpose\n",
    "# Reduction: reduce() applies a given function cumulatively to the items of an iterable, from left to right, so as to reduce the \n",
    "# iterable to a single value.\n",
    "# Syntax\n",
    "# from functools import reduce\n",
    "\n",
    "# reduce(function, iterable, [initializer])\n",
    "\n",
    "# function: A function that takes two arguments and returns a single value. This function is applied cumulatively.\n",
    "# iterable: An iterable whose items will be processed by the function.\n",
    "# initializer: (Optional) An initial value to start the reduction process.\n",
    "# Example\n",
    "from functools import reduce\n",
    "\n",
    "numbers = [1, 2, 3, 4, 5]\n",
    "\n",
    "# Function to add two numbers\n",
    "def add(x, y):\n",
    "    return x + y\n",
    "\n",
    "sum_of_numbers = reduce(add, numbers)\n",
    "print(sum_of_numbers)"
   ]
  },
  {
   "cell_type": "code",
   "execution_count": 46,
   "id": "1d282060-82b7-460f-a3d0-a38708d06981",
   "metadata": {},
   "outputs": [
    {
     "name": "stdout",
     "output_type": "stream",
     "text": [
      "[2, 4]\n"
     ]
    }
   ],
   "source": [
    "# Use Case\n",
    "# Use reduce() when you need to aggregate or accumulate values from an iterable into a single result, such as computing the sum, \n",
    "# product, or concatenation of elements.\n",
    "\n",
    "# filter()\n",
    "# Purpose\n",
    "# Filtering: filter() applies a given function to each item of an iterable and returns an iterator containing only those items for \n",
    "# which the function returns True.\n",
    "# Syntax\n",
    "# filter(function, iterable)\n",
    "\n",
    "# function: A function that takes a single argument and returns a boolean value (True or False). Only items for which the function \n",
    "# returns True are included in the result.\n",
    "# iterable: An iterable whose items will be filtered by the function.\n",
    "# Example\n",
    "\n",
    "numbers = [1, 2, 3, 4, 5]\n",
    "\n",
    "# Function to check if a number is even\n",
    "def is_even(x):\n",
    "    return x % 2 == 0\n",
    "\n",
    "even_numbers = filter(is_even, numbers)\n",
    "print(list(even_numbers))"
   ]
  },
  {
   "cell_type": "code",
   "execution_count": null,
   "id": "c648fc12-2e2d-4be9-b00e-6a3b4569368c",
   "metadata": {},
   "outputs": [],
   "source": [
    "# Use Case\n",
    "# Use filter() when you need to filter elements based on some condition, such as selecting even numbers, removing items that don't meet\n",
    "# criteria, or filtering data based on specific conditions.\n",
    "\n",
    "# Summary of Differences\n",
    "# map():\n",
    "\n",
    "# Purpose: Transforms each item in an iterable using a function.\n",
    "# Result: An iterable of transformed values.\n",
    "# Use Case: Data transformation.\n",
    "\n",
    "#reduce():\n",
    "\n",
    "# Purpose: Reduces an iterable to a single value using a cumulative function.\n",
    "# Result: A single aggregated result.\n",
    "# Use Case: Aggregation or accumulation (e.g., sum, product).\n",
    "\n",
    "#filter():\n",
    "\n",
    "# Purpose: Filters elements of an iterable based on a function that returns True or False.\n",
    "# Result: An iterable of elements that meet the condition.\n",
    "# Use Case: Filtering data based on conditions.\n",
    "# Each of these functions is a powerful tool for processing and manipulating data in Python, and choosing the right one depends on the \n",
    "# specific task you need to accomplish."
   ]
  },
  {
   "cell_type": "code",
   "execution_count": null,
   "id": "210caec7-33ec-4182-a3a2-c06ff14bf7dc",
   "metadata": {},
   "outputs": [],
   "source": []
  }
 ],
 "metadata": {
  "kernelspec": {
   "display_name": "Python 3 (ipykernel)",
   "language": "python",
   "name": "python3"
  },
  "language_info": {
   "codemirror_mode": {
    "name": "ipython",
    "version": 3
   },
   "file_extension": ".py",
   "mimetype": "text/x-python",
   "name": "python",
   "nbconvert_exporter": "python",
   "pygments_lexer": "ipython3",
   "version": "3.10.8"
  }
 },
 "nbformat": 4,
 "nbformat_minor": 5
}
